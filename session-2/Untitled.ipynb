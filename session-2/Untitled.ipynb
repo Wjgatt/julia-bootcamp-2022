{
 "cells": [
  {
   "cell_type": "markdown",
   "id": "4eda7a49",
   "metadata": {
    "slideshow": {
     "slide_type": "slide"
    }
   },
   "source": [
    "# Julia For Economists\n",
    "\n",
    "## Parallelization and You\n",
    "\n",
    "### Cameron Pfiffer (cpfiffer@stanford.edu)"
   ]
  },
  {
   "cell_type": "markdown",
   "id": "e0d60eba",
   "metadata": {
    "slideshow": {
     "slide_type": "slide"
    }
   },
   "source": [
    "## Brief intro\n",
    "\n",
    "- Cameron Pfiffer\n",
    "- Finance PhD student at University of Oregon\n",
    "- Visiting at the Stanford GSB\n",
    "- I do Bayes, asset pricing, and computer stuff"
   ]
  },
  {
   "cell_type": "markdown",
   "id": "0ddea297",
   "metadata": {
    "slideshow": {
     "slide_type": "slide"
    }
   },
   "source": [
    "## Today's roadmap\n",
    "\n",
    "- What is a CPU and what actually happens when you ask it to do stuff?\n",
    "- Multithreading\n",
    "- Multiprocessing\n",
    "- GPU processing"
   ]
  },
  {
   "cell_type": "code",
   "execution_count": null,
   "id": "81b24a3f",
   "metadata": {},
   "outputs": [],
   "source": []
  }
 ],
 "metadata": {
  "celltoolbar": "Slideshow",
  "kernelspec": {
   "display_name": "Julia 1.6.2",
   "language": "julia",
   "name": "julia-1.6"
  },
  "language_info": {
   "file_extension": ".jl",
   "mimetype": "application/julia",
   "name": "julia",
   "version": "1.6.2"
  }
 },
 "nbformat": 4,
 "nbformat_minor": 5
}
